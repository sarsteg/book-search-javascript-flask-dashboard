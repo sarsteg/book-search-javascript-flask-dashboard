{
 "cells": [
  {
   "cell_type": "code",
   "execution_count": 1,
   "metadata": {},
   "outputs": [],
   "source": [
    "# Import libraries\n",
    "import pandas as pd"
   ]
  },
  {
   "cell_type": "code",
   "execution_count": 2,
   "metadata": {},
   "outputs": [],
   "source": [
    "# Load the json file\n",
    "df = pd.read_json('mongo-king-bachman.json')"
   ]
  },
  {
   "cell_type": "code",
   "execution_count": 3,
   "metadata": {},
   "outputs": [
    {
     "data": {
      "text/html": [
       "<div>\n",
       "<style scoped>\n",
       "    .dataframe tbody tr th:only-of-type {\n",
       "        vertical-align: middle;\n",
       "    }\n",
       "\n",
       "    .dataframe tbody tr th {\n",
       "        vertical-align: top;\n",
       "    }\n",
       "\n",
       "    .dataframe thead th {\n",
       "        text-align: right;\n",
       "    }\n",
       "</style>\n",
       "<table border=\"1\" class=\"dataframe\">\n",
       "  <thead>\n",
       "    <tr style=\"text-align: right;\">\n",
       "      <th></th>\n",
       "      <th>_id</th>\n",
       "      <th>kind</th>\n",
       "      <th>id</th>\n",
       "      <th>etag</th>\n",
       "      <th>selfLink</th>\n",
       "      <th>volumeInfo</th>\n",
       "      <th>saleInfo</th>\n",
       "      <th>accessInfo</th>\n",
       "      <th>searchInfo</th>\n",
       "    </tr>\n",
       "  </thead>\n",
       "  <tbody>\n",
       "    <tr>\n",
       "      <th>0</th>\n",
       "      <td>{'$oid': '64b9f6b3a2229c0ebe08e301'}</td>\n",
       "      <td>books#volume</td>\n",
       "      <td>iCWgDwAAQBAJ</td>\n",
       "      <td>Y6JuzomXmI0</td>\n",
       "      <td>https://www.googleapis.com/books/v1/volumes/iC...</td>\n",
       "      <td>{'title': 'It', 'subtitle': 'A Novel', 'author...</td>\n",
       "      <td>{'country': 'US', 'saleability': 'NOT_FOR_SALE...</td>\n",
       "      <td>{'country': 'US', 'viewability': 'PARTIAL', 'e...</td>\n",
       "      <td>{'textSnippet': 'Readers of Stephen King know ...</td>\n",
       "    </tr>\n",
       "    <tr>\n",
       "      <th>1</th>\n",
       "      <td>{'$oid': '64b9f6b3a2229c0ebe08e302'}</td>\n",
       "      <td>books#volume</td>\n",
       "      <td>K47JTah91MkC</td>\n",
       "      <td>H8KdhZKRT6M</td>\n",
       "      <td>https://www.googleapis.com/books/v1/volumes/K4...</td>\n",
       "      <td>{'title': 'Night Shift', 'authors': ['Stephen ...</td>\n",
       "      <td>{'country': 'US', 'saleability': 'NOT_FOR_SALE...</td>\n",
       "      <td>{'country': 'US', 'viewability': 'PARTIAL', 'e...</td>\n",
       "      <td>{'textSnippet': 'From the undisputed master of...</td>\n",
       "    </tr>\n",
       "    <tr>\n",
       "      <th>2</th>\n",
       "      <td>{'$oid': '64b9f6b3a2229c0ebe08e303'}</td>\n",
       "      <td>books#volume</td>\n",
       "      <td>ylLoGsee8YcC</td>\n",
       "      <td>qh3HCO0v/0I</td>\n",
       "      <td>https://www.googleapis.com/books/v1/volumes/yl...</td>\n",
       "      <td>{'title': 'Needful Things', 'authors': ['Steph...</td>\n",
       "      <td>{'country': 'US', 'saleability': 'NOT_FOR_SALE...</td>\n",
       "      <td>{'country': 'US', 'viewability': 'NO_PAGES', '...</td>\n",
       "      <td>{'textSnippet': 'In King&amp;#39;s #1 bestselling ...</td>\n",
       "    </tr>\n",
       "    <tr>\n",
       "      <th>3</th>\n",
       "      <td>{'$oid': '64b9f6b3a2229c0ebe08e304'}</td>\n",
       "      <td>books#volume</td>\n",
       "      <td>I5GxDgAAQBAJ</td>\n",
       "      <td>3qn7LfuqLww</td>\n",
       "      <td>https://www.googleapis.com/books/v1/volumes/I5...</td>\n",
       "      <td>{'title': 'The Girl Who Loved Tom Gordon', 'au...</td>\n",
       "      <td>{'country': 'US', 'saleability': 'NOT_FOR_SALE...</td>\n",
       "      <td>{'country': 'US', 'viewability': 'PARTIAL', 'e...</td>\n",
       "      <td>{'textSnippet': 'A frightening suspense novel ...</td>\n",
       "    </tr>\n",
       "    <tr>\n",
       "      <th>4</th>\n",
       "      <td>{'$oid': '64b9f6b3a2229c0ebe08e305'}</td>\n",
       "      <td>books#volume</td>\n",
       "      <td>BxfquQEACAAJ</td>\n",
       "      <td>G37rKOOQfyE</td>\n",
       "      <td>https://www.googleapis.com/books/v1/volumes/Bx...</td>\n",
       "      <td>{'title': 'Sleeping Beauties', 'authors': ['St...</td>\n",
       "      <td>{'country': 'US', 'saleability': 'NOT_FOR_SALE...</td>\n",
       "      <td>{'country': 'US', 'viewability': 'NO_PAGES', '...</td>\n",
       "      <td>{'textSnippet': 'A #1 New York Times Bestselle...</td>\n",
       "    </tr>\n",
       "  </tbody>\n",
       "</table>\n",
       "</div>"
      ],
      "text/plain": [
       "                                    _id          kind            id  \\\n",
       "0  {'$oid': '64b9f6b3a2229c0ebe08e301'}  books#volume  iCWgDwAAQBAJ   \n",
       "1  {'$oid': '64b9f6b3a2229c0ebe08e302'}  books#volume  K47JTah91MkC   \n",
       "2  {'$oid': '64b9f6b3a2229c0ebe08e303'}  books#volume  ylLoGsee8YcC   \n",
       "3  {'$oid': '64b9f6b3a2229c0ebe08e304'}  books#volume  I5GxDgAAQBAJ   \n",
       "4  {'$oid': '64b9f6b3a2229c0ebe08e305'}  books#volume  BxfquQEACAAJ   \n",
       "\n",
       "          etag                                           selfLink  \\\n",
       "0  Y6JuzomXmI0  https://www.googleapis.com/books/v1/volumes/iC...   \n",
       "1  H8KdhZKRT6M  https://www.googleapis.com/books/v1/volumes/K4...   \n",
       "2  qh3HCO0v/0I  https://www.googleapis.com/books/v1/volumes/yl...   \n",
       "3  3qn7LfuqLww  https://www.googleapis.com/books/v1/volumes/I5...   \n",
       "4  G37rKOOQfyE  https://www.googleapis.com/books/v1/volumes/Bx...   \n",
       "\n",
       "                                          volumeInfo  \\\n",
       "0  {'title': 'It', 'subtitle': 'A Novel', 'author...   \n",
       "1  {'title': 'Night Shift', 'authors': ['Stephen ...   \n",
       "2  {'title': 'Needful Things', 'authors': ['Steph...   \n",
       "3  {'title': 'The Girl Who Loved Tom Gordon', 'au...   \n",
       "4  {'title': 'Sleeping Beauties', 'authors': ['St...   \n",
       "\n",
       "                                            saleInfo  \\\n",
       "0  {'country': 'US', 'saleability': 'NOT_FOR_SALE...   \n",
       "1  {'country': 'US', 'saleability': 'NOT_FOR_SALE...   \n",
       "2  {'country': 'US', 'saleability': 'NOT_FOR_SALE...   \n",
       "3  {'country': 'US', 'saleability': 'NOT_FOR_SALE...   \n",
       "4  {'country': 'US', 'saleability': 'NOT_FOR_SALE...   \n",
       "\n",
       "                                          accessInfo  \\\n",
       "0  {'country': 'US', 'viewability': 'PARTIAL', 'e...   \n",
       "1  {'country': 'US', 'viewability': 'PARTIAL', 'e...   \n",
       "2  {'country': 'US', 'viewability': 'NO_PAGES', '...   \n",
       "3  {'country': 'US', 'viewability': 'PARTIAL', 'e...   \n",
       "4  {'country': 'US', 'viewability': 'NO_PAGES', '...   \n",
       "\n",
       "                                          searchInfo  \n",
       "0  {'textSnippet': 'Readers of Stephen King know ...  \n",
       "1  {'textSnippet': 'From the undisputed master of...  \n",
       "2  {'textSnippet': 'In King&#39;s #1 bestselling ...  \n",
       "3  {'textSnippet': 'A frightening suspense novel ...  \n",
       "4  {'textSnippet': 'A #1 New York Times Bestselle...  "
      ]
     },
     "execution_count": 3,
     "metadata": {},
     "output_type": "execute_result"
    }
   ],
   "source": [
    "# Display the first 5 rows\n",
    "df.head()"
   ]
  },
  {
   "cell_type": "code",
   "execution_count": 4,
   "metadata": {},
   "outputs": [
    {
     "data": {
      "text/plain": [
       "_id                        {'$oid': '64b9f6b3a2229c0ebe08e301'}\n",
       "kind                                               books#volume\n",
       "id                                                 iCWgDwAAQBAJ\n",
       "etag                                                Y6JuzomXmI0\n",
       "selfLink      https://www.googleapis.com/books/v1/volumes/iC...\n",
       "volumeInfo    {'title': 'It', 'subtitle': 'A Novel', 'author...\n",
       "saleInfo      {'country': 'US', 'saleability': 'NOT_FOR_SALE...\n",
       "accessInfo    {'country': 'US', 'viewability': 'PARTIAL', 'e...\n",
       "searchInfo    {'textSnippet': 'Readers of Stephen King know ...\n",
       "Name: 0, dtype: object"
      ]
     },
     "execution_count": 4,
     "metadata": {},
     "output_type": "execute_result"
    }
   ],
   "source": [
    "# Show one of the entries entirely \n",
    "df.iloc[0]"
   ]
  },
  {
   "cell_type": "markdown",
   "metadata": {},
   "source": [
    "# Fixing the Columns"
   ]
  },
  {
   "cell_type": "code",
   "execution_count": null,
   "metadata": {},
   "outputs": [],
   "source": [
    "# _id needs to have just the id\n"
   ]
  },
  {
   "cell_type": "markdown",
   "metadata": {},
   "source": [
    "# Review Data"
   ]
  },
  {
   "cell_type": "code",
   "execution_count": null,
   "metadata": {},
   "outputs": [],
   "source": [
    "# Count the number of rows in the dataset\n"
   ]
  },
  {
   "cell_type": "code",
   "execution_count": null,
   "metadata": {},
   "outputs": [],
   "source": [
    "# Count number of books by each author\n",
    "# Check that all authors are either Stephen King or Richard Bachman\n"
   ]
  },
  {
   "cell_type": "markdown",
   "metadata": {},
   "source": [
    "# Duplicate books"
   ]
  },
  {
   "cell_type": "code",
   "execution_count": null,
   "metadata": {},
   "outputs": [],
   "source": [
    "# Search the database to determine \n",
    "# if there are any duplicate titles for books within the database\n"
   ]
  }
 ],
 "metadata": {
  "kernelspec": {
   "display_name": "Python 3 (ipykernel)",
   "language": "python",
   "name": "python3"
  },
  "language_info": {
   "codemirror_mode": {
    "name": "ipython",
    "version": 3
   },
   "file_extension": ".py",
   "mimetype": "text/x-python",
   "name": "python",
   "nbconvert_exporter": "python",
   "pygments_lexer": "ipython3",
   "version": "3.10.9"
  }
 },
 "nbformat": 4,
 "nbformat_minor": 4
}
