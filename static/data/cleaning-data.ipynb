{
 "cells": [
  {
   "cell_type": "code",
   "execution_count": 2,
   "metadata": {},
   "outputs": [],
   "source": [
    "# Import libraries\n",
    "import pandas as pd\n",
    "from pymongo import MongoClient\n",
    "from pprint import pprint"
   ]
  },
  {
   "cell_type": "code",
   "execution_count": 3,
   "metadata": {},
   "outputs": [],
   "source": [
    "# Load the json file\n",
    "mongo = MongoClient(port=27017)"
   ]
  },
  {
   "cell_type": "code",
   "execution_count": 4,
   "metadata": {},
   "outputs": [
    {
     "name": "stdout",
     "output_type": "stream",
     "text": [
      "['admin', 'autosaurus', 'config', 'king-bachman', 'local', 'met', 'petsitly_marketing', 'test_db', 'uk_food']\n"
     ]
    }
   ],
   "source": [
    "# Database names for king-bachman database\n",
    "print(mongo.list_database_names())"
   ]
  },
  {
   "cell_type": "code",
   "execution_count": 5,
   "metadata": {},
   "outputs": [],
   "source": [
    "# Assign our database to a variable\n",
    "db = mongo['king-bachman']"
   ]
  },
  {
   "cell_type": "code",
   "execution_count": 6,
   "metadata": {},
   "outputs": [
    {
     "name": "stdout",
     "output_type": "stream",
     "text": [
      "['king-bachman']\n"
     ]
    }
   ],
   "source": [
    "# List the names of the collections in the database\n",
    "print(db.list_collection_names())"
   ]
  },
  {
   "cell_type": "code",
   "execution_count": 22,
   "metadata": {},
   "outputs": [
    {
     "name": "stdout",
     "output_type": "stream",
     "text": [
      "{'_id': ObjectId('64b9f6b3a2229c0ebe08e301'),\n",
      " 'accessInfo': {'accessViewStatus': 'SAMPLE',\n",
      "                'country': 'US',\n",
      "                'embeddable': True,\n",
      "                'epub': {'isAvailable': False},\n",
      "                'pdf': {'isAvailable': False},\n",
      "                'publicDomain': False,\n",
      "                'quoteSharingAllowed': False,\n",
      "                'textToSpeechPermission': 'ALLOWED_FOR_ACCESSIBILITY',\n",
      "                'viewability': 'PARTIAL',\n",
      "                'webReaderLink': 'http://play.google.com/books/reader?id=iCWgDwAAQBAJ&hl=&source=gbs_api'},\n",
      " 'etag': 'Y6JuzomXmI0',\n",
      " 'id': 'iCWgDwAAQBAJ',\n",
      " 'kind': 'books#volume',\n",
      " 'saleInfo': {'country': 'US', 'isEbook': False, 'saleability': 'NOT_FOR_SALE'},\n",
      " 'searchInfo': {'textSnippet': 'Readers of Stephen King know that Derry, '\n",
      "                               'Maine, is a place with a deep, dark hold on '\n",
      "                               'the author. It reappears in many of his books, '\n",
      "                               'including Bag of Bones, Hearts in Atlantis, '\n",
      "                               'and 11/22/63.'},\n",
      " 'selfLink': 'https://www.googleapis.com/books/v1/volumes/iCWgDwAAQBAJ',\n",
      " 'volumeInfo': {'allowAnonLogging': False,\n",
      "                'authors': ['Stephen King'],\n",
      "                'averageRating': 4,\n",
      "                'canonicalVolumeLink': 'https://books.google.com/books/about/It.html?hl=&id=iCWgDwAAQBAJ',\n",
      "                'categories': ['Fiction'],\n",
      "                'contentVersion': '0.2.0.0.preview.0',\n",
      "                'description': 'It: Chapter Two—now a major motion picture! '\n",
      "                               'Stephen King’s terrifying, classic #1 New York '\n",
      "                               'Times bestseller, “a landmark in American '\n",
      "                               'literature” (Chicago Sun-Times)—about seven '\n",
      "                               'adults who return to their hometown to '\n",
      "                               'confront a nightmare they had first stumbled '\n",
      "                               'on as teenagers…an evil without a name: It. '\n",
      "                               'Welcome to Derry, Maine. It’s a small city, a '\n",
      "                               'place as hauntingly familiar as your own '\n",
      "                               'hometown. Only in Derry the haunting is real. '\n",
      "                               'They were seven teenagers when they first '\n",
      "                               'stumbled upon the horror. Now they are '\n",
      "                               'grown-up men and women who have gone out into '\n",
      "                               'the big world to gain success and happiness. '\n",
      "                               'But the promise they made twenty-eight years '\n",
      "                               'ago calls them reunite in the same place '\n",
      "                               'where, as teenagers, they battled an evil '\n",
      "                               'creature that preyed on the city’s children. '\n",
      "                               'Now, children are being murdered again and '\n",
      "                               'their repressed memories of that terrifying '\n",
      "                               'summer return as they prepare to once again '\n",
      "                               'battle the monster lurking in Derry’s sewers. '\n",
      "                               'Readers of Stephen King know that Derry, '\n",
      "                               'Maine, is a place with a deep, dark hold on '\n",
      "                               'the author. It reappears in many of his books, '\n",
      "                               'including Bag of Bones, Hearts in Atlantis, '\n",
      "                               'and 11/22/63. But it all starts with It. '\n",
      "                               '“Stephen King’s most mature work” (St. '\n",
      "                               'Petersburg Times), “It will overwhelm you…to '\n",
      "                               'be read in a well-lit room only” (Los Angeles '\n",
      "                               'Times).',\n",
      "                'imageLinks': {'smallThumbnail': 'http://books.google.com/books/content?id=iCWgDwAAQBAJ&printsec=frontcover&img=1&zoom=5&edge=curl&source=gbs_api',\n",
      "                               'thumbnail': 'http://books.google.com/books/content?id=iCWgDwAAQBAJ&printsec=frontcover&img=1&zoom=1&edge=curl&source=gbs_api'},\n",
      "                'industryIdentifiers': [{'identifier': '9781982127794',\n",
      "                                         'type': 'ISBN_13'},\n",
      "                                        {'identifier': '1982127791',\n",
      "                                         'type': 'ISBN_10'}],\n",
      "                'infoLink': 'http://books.google.com/books?id=iCWgDwAAQBAJ&dq=inauthor:Stephen+King&hl=&source=gbs_api',\n",
      "                'language': 'en',\n",
      "                'maturityRating': 'NOT_MATURE',\n",
      "                'pageCount': 1184,\n",
      "                'panelizationSummary': {'containsEpubBubbles': False,\n",
      "                                        'containsImageBubbles': False},\n",
      "                'previewLink': 'http://books.google.com/books?id=iCWgDwAAQBAJ&printsec=frontcover&dq=inauthor:Stephen+King&hl=&cd=1&source=gbs_api',\n",
      "                'printType': 'BOOK',\n",
      "                'publishedDate': '2019-07-30',\n",
      "                'publisher': 'Scribner',\n",
      "                'ratingsCount': 117,\n",
      "                'readingModes': {'image': False, 'text': False},\n",
      "                'subtitle': 'A Novel',\n",
      "                'title': 'It'}}\n"
     ]
    }
   ],
   "source": [
    "# Review a document in the database\n",
    "pprint(db['king-bachman'].find_one())"
   ]
  },
  {
   "cell_type": "code",
   "execution_count": 8,
   "metadata": {},
   "outputs": [],
   "source": [
    "# Assign the collection to a variable\n",
    "collection = db['king-bachman']"
   ]
  },
  {
   "cell_type": "markdown",
   "metadata": {},
   "source": [
    "# Review Data"
   ]
  },
  {
   "cell_type": "markdown",
   "metadata": {},
   "source": [
    "## Book Titles"
   ]
  },
  {
   "cell_type": "code",
   "execution_count": 24,
   "metadata": {},
   "outputs": [
    {
     "data": {
      "text/plain": [
       "280"
      ]
     },
     "execution_count": 24,
     "metadata": {},
     "output_type": "execute_result"
    }
   ],
   "source": [
    "# Count the number of rows in the dataset, should be 280\n",
    "collection.count_documents({})\n"
   ]
  },
  {
   "cell_type": "code",
   "execution_count": 30,
   "metadata": {},
   "outputs": [
    {
     "data": {
      "text/plain": [
       "[\"'Salem's Lot\",\n",
       " '11/22/63',\n",
       " '11/22/63 (Enhanced eBook)',\n",
       " '1922',\n",
       " 'A Georgia Training and Redevelopment Center',\n",
       " 'A Longa Marcha',\n",
       " 'A Master Class in Brand Planning',\n",
       " 'A autoestrada',\n",
       " 'A-Z of Ethereum',\n",
       " 'Albträume',\n",
       " 'American Vampire',\n",
       " 'Amok',\n",
       " 'Amok.',\n",
       " 'Awaken',\n",
       " \"Bachman's Law\",\n",
       " 'Bag of Bones',\n",
       " 'Billy Summers',\n",
       " 'Billy Summers (Large Print Edition)',\n",
       " 'Black House',\n",
       " 'Blaze',\n",
       " 'Blaze (Versione Italiana)',\n",
       " 'Blaze, a Novel with a Foreword by Stephen King',\n",
       " 'Books on the Frontier',\n",
       " 'Bundle',\n",
       " 'Bundle: Bachman: Fundamentals of Research in Criminology and Criminal Justice + Hartley: Snapshots of Research in Criminology',\n",
       " 'Carrie',\n",
       " \"Catalogue raisonné d'oiseaux de l'Algérie\",\n",
       " 'Cell',\n",
       " 'Chantier',\n",
       " 'Christine',\n",
       " 'Coffey on the Mile',\n",
       " 'Colorado Kid',\n",
       " 'Creepshow',\n",
       " 'Crossroads in the Dark 2',\n",
       " 'Cujo',\n",
       " 'DOCTOR SLEEP: STEPHEN KING NEW COVER SERIES',\n",
       " 'Danse Macabre',\n",
       " 'Dark Tower: The Gunslinger',\n",
       " 'De regelaars',\n",
       " 'Desparation / Reg 3d Display Piece',\n",
       " 'Desperation',\n",
       " 'Distribution, Density and Composition of Seagrasses in the Southernmost Reach of the Indian River Lagoon',\n",
       " 'Dlouhý pochod',\n",
       " 'Doctor Sleep',\n",
       " 'Doctor Sleep Film Tie-In Export Film Tie-in',\n",
       " 'Dolores Claiborne',\n",
       " 'Dreamcatcher',\n",
       " 'Duma Key',\n",
       " 'Dødsspillet',\n",
       " 'END OF WATCH WRTIING JOURNAL -',\n",
       " 'El fugitivo',\n",
       " 'Elevation',\n",
       " 'Eliminate Sciatica in 21 Days',\n",
       " 'Emotional Intelligence',\n",
       " \"Everything's Eventual\",\n",
       " 'Fairy Tale',\n",
       " 'Fairy Tale (Large Print Edition)',\n",
       " 'Feast of Fear',\n",
       " 'Firestarter',\n",
       " 'Four Past Midnight',\n",
       " 'From a Buick 8',\n",
       " \"Gerald's Game\",\n",
       " 'Heartless Cruelty',\n",
       " 'Holly',\n",
       " 'How to Correct Posture a 21 Day Step by Step Proven Strategy for Improving Your Posture',\n",
       " 'I vendicatori',\n",
       " 'Insomnia',\n",
       " 'It',\n",
       " 'It. Movie Tie-In',\n",
       " 'John James Audubon',\n",
       " 'Just After Sunset',\n",
       " 'Just After Sunset EXP',\n",
       " 'Justiceiros, Os',\n",
       " \"L'occhio del male\",\n",
       " \"L'uomo in fuga\",\n",
       " 'La Peau sur les os',\n",
       " 'La peau sur les os',\n",
       " 'Laid So Low',\n",
       " 'Last Shots',\n",
       " 'Les Régulateurs',\n",
       " 'Les Tommyknockers',\n",
       " \"Lisey's Story\",\n",
       " 'Maleficio',\n",
       " 'Marche ou crève',\n",
       " 'Misery',\n",
       " 'Monitoring the Future',\n",
       " 'Mr. Mercedes',\n",
       " 'N DE STEPHEN KING',\n",
       " 'Needful Things',\n",
       " 'Night Shift',\n",
       " 'Nightmares & Dreamscapes',\n",
       " 'On Writing',\n",
       " 'Os justiceiros',\n",
       " 'Pet Sematary',\n",
       " 'Porcelain Man',\n",
       " 'Posesión',\n",
       " 'Profile of Benthic Macroinvertebrates in the Loxahatchee River Estuary',\n",
       " 'Qual',\n",
       " 'Rabia',\n",
       " 'Rage',\n",
       " 'Razeh',\n",
       " 'Records',\n",
       " 'Regulator',\n",
       " 'Regulatorzy',\n",
       " 'Repairing Storm-damaged Shade, Ornamental, and Fruit Trees',\n",
       " 'Revival',\n",
       " 'Rita Hayworth and Shawshank Redemption',\n",
       " 'Roadwork',\n",
       " 'Running Man. (5063 566)',\n",
       " 'SALEMS LOT: STEPHEN KING NEW COVER SERIES',\n",
       " 'STEPHEN KING NEW COVER SERIES No. 10 Joyland Illustrated',\n",
       " 'STEPHEN KING NEW COVER SERIES No. 11 Eyes of the Dragon',\n",
       " 'STEPHEN KING NEW COVER SERIES No. 13 IT',\n",
       " 'STEPHEN KING NEW COVER SERIES No. 9 Bazaar of Bad Dreams',\n",
       " 'Self-Discipline',\n",
       " 'Shopping at Home for Camping and Outdoor Equipment',\n",
       " 'Six Scary Stories',\n",
       " 'Sleeping Beauties',\n",
       " 'Sleeping Beauties, Vol. 1 (Graphic Novel)',\n",
       " 'Sorvadj el!',\n",
       " 'Stegovnici',\n",
       " 'Stephen King',\n",
       " 'Stephen King #04-3 Vols. (Boxed)',\n",
       " 'Stephen King 3',\n",
       " 'Stephen King 6 3',\n",
       " 'Stephen King Backlist X20 D/B',\n",
       " 'Stephen King Collectors Editions',\n",
       " 'Stephen King Dark 22',\n",
       " 'Stephen King Goes to the Movies',\n",
       " 'Stephen King Is Richard Bachman',\n",
       " 'Stephen King Mixed a S/Wx12',\n",
       " 'Stephen King Omnibus',\n",
       " 'Stephen King Omnibus 3',\n",
       " 'Stephen King Short Fiction',\n",
       " 'Stephen King Three Classic Novels',\n",
       " 'Stephen King Writing as Richard Bachman',\n",
       " 'Stephen King Yr93 12',\n",
       " 'Stephen King the Dark Tower Little Sisters of Eluria',\n",
       " \"Stephen King's Battleground\",\n",
       " \"Stephen King's Creepshow\",\n",
       " \"Stephen King's Dark Tower: The Gunslinger - The Little Sisters of Eluria\",\n",
       " \"Stephen King's N.\",\n",
       " \"Stephen King's The Dark Tower: Beginnings\",\n",
       " \"Stephen King's The Dark Tower: Beginnings Omnibus\",\n",
       " \"Stephen King's The Dark Tower: The Drawing of the Three\",\n",
       " \"Stephen King's The Dark Tower: The Drawing of the Three Omnibus\",\n",
       " \"Stephen King's The Dark Tower: The Gunslinger Omnibus\",\n",
       " \"Stephen King's Thinner\",\n",
       " 'Stephen King, American Master',\n",
       " 'Storm of the Century',\n",
       " 'Strážci zákona',\n",
       " 'Teloittajat',\n",
       " 'The Bachman Books',\n",
       " 'The Bazaar of Bad Dreams',\n",
       " 'The Body',\n",
       " 'The Colorado Kid',\n",
       " 'The Complete Hard Case Crime Stephen King Collection',\n",
       " 'The Dark Man',\n",
       " 'The Dark Tower I',\n",
       " 'The Dark Tower VII',\n",
       " 'The Dead Zone',\n",
       " 'The Diary of a U-Boat Commander',\n",
       " 'The Drawing Of The Three',\n",
       " 'The Drawing of the Three',\n",
       " 'The Ecstatic Mother',\n",
       " 'The Fall of Gilead',\n",
       " 'The Girl Who Loved Tom Gordon',\n",
       " 'The Green Mile',\n",
       " 'The Gunslinger',\n",
       " 'The Horror Hits of Richard Gordon',\n",
       " 'The Institute',\n",
       " 'The LONG WALK',\n",
       " 'The Lady of Shadows',\n",
       " 'The Long Walk',\n",
       " 'The Lost Work of Stephen King',\n",
       " 'The Mouse on the Mile',\n",
       " 'The Much Calmer Sutra',\n",
       " 'The Outsider',\n",
       " 'The Porcelain Man',\n",
       " 'The Regulators',\n",
       " 'The Running Man',\n",
       " 'The Shape Under the Sheet',\n",
       " 'The Shining',\n",
       " 'The Stand',\n",
       " 'The Stand (Movie Tie-in Edition)',\n",
       " 'The Stand -Volume 1',\n",
       " 'The Sun Dog',\n",
       " 'The Talisman',\n",
       " 'The Tommyknockers',\n",
       " 'The Very Best of Fantasy & Science Fiction, Volume 2',\n",
       " 'The Waste Lands',\n",
       " 'The Wind Through the Keyhole',\n",
       " 'Thinner',\n",
       " 'Thinner. LARGE TYPE EDITION',\n",
       " 'Three complete novels',\n",
       " 'Treachery',\n",
       " 'Under the Dome',\n",
       " 'Understanding Dynamic Responses to Mitigation Policies for Intra-urban Road Freight Emissions',\n",
       " 'Vimma ; Juokse tai kuole',\n",
       " 'Vokterne',\n",
       " 'Väktarna',\n",
       " 'Wizard and Glass',\n",
       " 'Wizard and Glass Stephen King',\n",
       " 'Οι Ρυθμιστεσ',\n",
       " 'Блейз',\n",
       " 'המשלטים',\n",
       " '銷形蝕骸']"
      ]
     },
     "execution_count": 30,
     "metadata": {},
     "output_type": "execute_result"
    }
   ],
   "source": [
    "# Count the number of unique book titles \n",
    "collection.distinct('volumeInfo.title')"
   ]
  },
  {
   "cell_type": "code",
   "execution_count": 59,
   "metadata": {},
   "outputs": [
    {
     "name": "stdout",
     "output_type": "stream",
     "text": [
      "{'_id': ObjectId('64b9f71da2229c0ebe08e3c6'),\n",
      " 'accessInfo': {'accessViewStatus': 'NONE',\n",
      "                'country': 'US',\n",
      "                'embeddable': False,\n",
      "                'epub': {'isAvailable': False},\n",
      "                'pdf': {'isAvailable': False},\n",
      "                'publicDomain': False,\n",
      "                'quoteSharingAllowed': False,\n",
      "                'textToSpeechPermission': 'ALLOWED',\n",
      "                'viewability': 'NO_PAGES',\n",
      "                'webReaderLink': 'http://play.google.com/books/reader?id=sjuWAAAACAAJ&hl=&source=gbs_api'},\n",
      " 'etag': 's2MMelhucPg',\n",
      " 'id': 'sjuWAAAACAAJ',\n",
      " 'kind': 'books#volume',\n",
      " 'saleInfo': {'country': 'US', 'isEbook': False, 'saleability': 'NOT_FOR_SALE'},\n",
      " 'selfLink': 'https://www.googleapis.com/books/v1/volumes/sjuWAAAACAAJ',\n",
      " 'volumeInfo': {'allowAnonLogging': False,\n",
      "                'authors': ['Richard Bachman'],\n",
      "                'canonicalVolumeLink': 'https://books.google.com/books/about/Amok.html?hl=&id=sjuWAAAACAAJ',\n",
      "                'contentVersion': 'preview-1.0.0',\n",
      "                'industryIdentifiers': [{'identifier': '3453129636',\n",
      "                                         'type': 'ISBN_10'},\n",
      "                                        {'identifier': '9783453129634',\n",
      "                                         'type': 'ISBN_13'}],\n",
      "                'infoLink': 'http://books.google.com/books?id=sjuWAAAACAAJ&dq=inauthor:Richard+Bachman&hl=&source=gbs_api',\n",
      "                'language': 'en',\n",
      "                'maturityRating': 'NOT_MATURE',\n",
      "                'pageCount': 219,\n",
      "                'previewLink': 'http://books.google.com/books?id=sjuWAAAACAAJ&dq=inauthor:Richard+Bachman&hl=&cd=38&source=gbs_api',\n",
      "                'printType': 'BOOK',\n",
      "                'publishedDate': '1998-01',\n",
      "                'readingModes': {'image': False, 'text': False},\n",
      "                'title': 'Amok.'}}\n"
     ]
    }
   ],
   "source": [
    "# Look up a book by title\n",
    "pprint(collection.find_one({'volumeInfo.title': 'Amok.'}))"
   ]
  },
  {
   "cell_type": "code",
   "execution_count": 63,
   "metadata": {},
   "outputs": [],
   "source": [
    "# Eliminate duplicate titles that are on the list\n",
    "remove_titles = [\n",
    "'The Dark Tower I', \n",
    "'Vokterne', \n",
    "'Väktarna', \n",
    "'Οι Ρυθμιστεσ', \n",
    "'המשלטים', \n",
    "'銷形蝕骸',\n",
    "'Блейз', \n",
    "'Vimma ; Juokse tai kuole', \n",
    "'Understanding Dynamic Responses to Mitigation Policies for Intra-urban Road Freight Emissions', \n",
    "'Thinner. LARGE TYPE EDITION', \n",
    "'The Stand (Movie Tie-in Edition)',\n",
    "'The Stand -Volume 1',\n",
    "'Strážci zákona', \n",
    "'Teloittajat', \n",
    "'Stephen King #04-3 Vols. (Boxed)', \n",
    "'Stephen King 3',\n",
    "'Stephen King 6 3',\n",
    "'Wizard and Glass Stephen King', \n",
    "'Stephen King Omnibus', \n",
    "'Stephen King Omnibus 3', \n",
    "'Stephen King Backlist X20 D/B', \n",
    "'Stephen King Mixed a S/Wx12', \n",
    "'Stephen King Yr93 12', \n",
    "'Stephen King the Dark Tower Little Sisters of Eluria', \n",
    "\"Stephen King's Dark Tower: The Gunslinger - The Little Sisters of Eluria\", \n",
    "'The Drawing Of The Three', \n",
    "'La Peau sur les os', \n",
    "'La peau sur les os', \n",
    "'Running Man. (5063 566)', \n",
    "'N DE STEPHEN KING', \n",
    "'Fairy Tale (Large Print Edition)', \n",
    "'It. Movie Tie-In', \n",
    "'Just After Sunset EXP', \n",
    "'Doctor Sleep Film Tie-In Export Film Tie-in', \n",
    "'DOCTOR SLEEP: STEPHEN KING NEW COVER SERIES',\n",
    "'Desparation / Reg 3d Display Piece', \n",
    "'Bundle: Bachman: Fundamentals of Research in Criminology and Criminal Justice + Hartley: Snapshots of Research in Criminology', \n",
    "'Bundle', \n",
    "'Blaze (Versione Italiana)', \n",
    "'Blaze, a Novel with a Foreword by Stephen King', \n",
    "'Billy Summers (Large Print Edition)', \n",
    "'STEPHEN KING NEW COVER SERIES No. 11 Eyes of the Dragon', \n",
    "\"Stephen King's The Dark Tower: The Drawing of the Three\",\n",
    "'The Drawing of the Three',\n",
    "'Amok', \n",
    "'Amok.', \n",
    "'11/22/63 (Enhanced eBook)'\n",
    "]\n"
   ]
  },
  {
   "cell_type": "code",
   "execution_count": 64,
   "metadata": {},
   "outputs": [
    {
     "data": {
      "text/plain": [
       "<pymongo.results.DeleteResult at 0x1d0fee1cd80>"
      ]
     },
     "execution_count": 64,
     "metadata": {},
     "output_type": "execute_result"
    }
   ],
   "source": [
    "# Remove the books on the remove_titles list\n",
    "collection.delete_many({'volumeInfo.title': {'$in': remove_titles}})"
   ]
  },
  {
   "cell_type": "code",
   "execution_count": 65,
   "metadata": {},
   "outputs": [
    {
     "data": {
      "text/plain": [
       "227"
      ]
     },
     "execution_count": 65,
     "metadata": {},
     "output_type": "execute_result"
    }
   ],
   "source": [
    "# Count the number of rows in the dataset\n",
    "collection.count_documents({})"
   ]
  },
  {
   "cell_type": "markdown",
   "metadata": {},
   "source": [
    "## Authorship"
   ]
  },
  {
   "cell_type": "code",
   "execution_count": 66,
   "metadata": {},
   "outputs": [
    {
     "data": {
      "text/plain": [
       "['Alf Malherbe',\n",
       " 'Alice Black',\n",
       " 'Andrea Fischer',\n",
       " 'Andrew Murray',\n",
       " 'Anonymous',\n",
       " 'Bachman, Richard',\n",
       " 'Ben Bachman',\n",
       " 'Božica Jakovlev',\n",
       " 'Brian Murray',\n",
       " 'British Association for the Advancement of Science',\n",
       " 'C. C. Adams',\n",
       " 'C. Richard Dent',\n",
       " 'Charles De Lint',\n",
       " 'Chuck Miller',\n",
       " 'DIANE Publishing Company',\n",
       " 'David Hughes',\n",
       " 'Frank Martin',\n",
       " 'Gary Robert Bachman',\n",
       " 'Glenn Campbell',\n",
       " 'Hernán Sabaté',\n",
       " 'Jae Lee',\n",
       " 'Jane Yolen',\n",
       " 'Jay Wright',\n",
       " 'Joachim Körber',\n",
       " 'John Bachman',\n",
       " 'John Davy',\n",
       " 'John T. Sharpless',\n",
       " 'John W. Bachman',\n",
       " 'Jonathan Shipley',\n",
       " 'Joseph Leidy',\n",
       " 'Judie Lannon',\n",
       " 'Karen Bovenmyer',\n",
       " 'Kate Nelligan',\n",
       " 'Kerry Denney',\n",
       " 'Kevin Wimer',\n",
       " 'L. Bachman',\n",
       " 'L. M. Barrett',\n",
       " 'Lars Schiele',\n",
       " 'Lesley Buckingham',\n",
       " 'Lorene R. Bachman',\n",
       " 'Loxahatchee River District (Fla.)',\n",
       " 'Lutheran Television Associates',\n",
       " 'Mary S. Ridler',\n",
       " 'Merry Baskin',\n",
       " 'Michael Arnold',\n",
       " 'Michael R. Collings',\n",
       " 'Michael Schutz',\n",
       " 'Mississippi State University. Extension Service',\n",
       " 'Năm Hoàng',\n",
       " 'Olaf Hjalmar Hove',\n",
       " 'Owen King',\n",
       " 'Paolo Bacigalupi',\n",
       " 'Paul Bassett Davies',\n",
       " 'Paul Hekman',\n",
       " 'Peter David',\n",
       " 'Peter Straub',\n",
       " 'R. M. Warren',\n",
       " 'RICHARD BACHMAN',\n",
       " 'Richard Bachman',\n",
       " 'Richard Bachman (pseud. van Stephen King.)',\n",
       " 'Richard Bachman (psevd. for Stephen King)',\n",
       " 'Richard Barber',\n",
       " 'Richard C. Dent',\n",
       " 'Richard Deutch',\n",
       " 'Richard Goffman',\n",
       " 'Richard Harold Mullenax',\n",
       " 'Richard Hutt',\n",
       " 'Richard Isanove',\n",
       " 'Richard Kennedy',\n",
       " 'Richard L. Bachman',\n",
       " 'Richard Owen',\n",
       " 'Richard Rhodes',\n",
       " 'Richard T. Sutcliffe',\n",
       " 'Richard Thorman',\n",
       " 'Richard W. Clement',\n",
       " 'Richard W. Goffman',\n",
       " 'Robert E. A. Lee',\n",
       " 'Robin Furth',\n",
       " 'S. L. Perrine',\n",
       " 'STEPHEN KING',\n",
       " 'Samantha Alexandra',\n",
       " 'Scott Snyder',\n",
       " 'Stepehn King',\n",
       " 'Stephen J. Spignesi',\n",
       " 'Stephen King',\n",
       " 'Stephen King (Richard Bachman),',\n",
       " 'Stephen King pod pseudonymem Richard Bachman',\n",
       " 'Stephen King- Hall',\n",
       " 'Stephen Spignesi',\n",
       " 'Stephen king',\n",
       " 'T. Browder',\n",
       " 'T. J. Weeks',\n",
       " 'Tacke Venus',\n",
       " 'Theodore Edward Cantor',\n",
       " 'Tim Underwood',\n",
       " 'Tom Weaver',\n",
       " 'Tuá̂n Anh',\n",
       " 'WildPine Ecological Laboratory (Fla.)',\n",
       " 'William Yarrell',\n",
       " 'שלמה גונן']"
      ]
     },
     "execution_count": 66,
     "metadata": {},
     "output_type": "execute_result"
    }
   ],
   "source": [
    "# Create a list of the authors of the books\n",
    "authors = collection.distinct('volumeInfo.authors')\n",
    "authors"
   ]
  },
  {
   "cell_type": "code",
   "execution_count": 72,
   "metadata": {},
   "outputs": [
    {
     "name": "stdout",
     "output_type": "stream",
     "text": [
      "['Stephen King']\n",
      "['Stephen King']\n",
      "['Stephen King']\n",
      "['Stephen King']\n",
      "['Stephen King', 'Owen King']\n",
      "['Stephen Spignesi']\n",
      "['Stephen King']\n",
      "['Stephen King']\n",
      "['Stephen King']\n",
      "['Stephen King']\n",
      "['Stephen King']\n",
      "['Stephen King']\n",
      "['Stephen King']\n",
      "['Stephen King']\n",
      "['Stephen King']\n",
      "['Stephen King']\n",
      "['Stephen King']\n",
      "['Stephen King']\n",
      "['Stephen King']\n",
      "['Stephen King']\n",
      "['Judie Lannon', 'Merry Baskin']\n",
      "['Stephen King']\n",
      "['Stephen King']\n",
      "['Stephen King']\n",
      "['Stephen King']\n",
      "['Stephen King']\n",
      "['Stephen King']\n",
      "['Stephen King']\n",
      "['Stephen King']\n",
      "['Stephen King']\n",
      "['Stephen King']\n",
      "['Stephen King']\n",
      "['Stephen King']\n",
      "['Stephen King']\n",
      "['Stephen King']\n",
      "['Stephen King']\n",
      "['Stephen King']\n",
      "['Stephen King']\n",
      "['Stephen King']\n",
      "['Stephen King']\n",
      "['Stephen King']\n",
      "['Stephen King']\n",
      "['Stephen King', 'Tim Underwood', 'Chuck Miller']\n",
      "['Stephen King']\n",
      "['Stephen King', 'Owen King']\n",
      "['Stephen King']\n",
      "['Stephen King', 'Robin Furth', 'Peter David']\n",
      "['Stephen King']\n",
      "['Stephen King']\n",
      "['Stephen King']\n",
      "['Stephen King']\n",
      "['Stephen King']\n",
      "['Stephen King', 'Andrea Fischer']\n",
      "['Stephen King']\n",
      "['Stephen King']\n",
      "['Stephen King']\n",
      "['Stephen King']\n",
      "['Stephen King']\n",
      "['Michael R. Collings', 'Stephen King']\n",
      "['Stephen King']\n",
      "['Stephen King']\n",
      "['Stephen J. Spignesi']\n",
      "['Stephen King', 'Peter Straub']\n",
      "['Stephen King']\n",
      "['Stephen King', 'Peter Straub']\n",
      "['Stephen King']\n",
      "['Stephen King']\n",
      "['Stephen King']\n",
      "['Stephen King', 'Peter David', 'Robin Furth']\n",
      "['Stephen King']\n",
      "['Stephen King']\n",
      "['Stephen King']\n",
      "['Richard Bachman', 'Stephen King']\n",
      "['Stephen King']\n",
      "['Stephen King']\n",
      "['Stephen King', 'Peter David', 'Robin Furth']\n",
      "['Stephen King']\n",
      "['Stephen King']\n",
      "['Stephen King']\n",
      "['Stephen King']\n",
      "['Richard Bachman', 'Stephen King']\n",
      "['Stephen King', 'Peter David', 'Robin Furth']\n",
      "['Stephen King', 'Robin Furth', 'Peter David']\n",
      "['Stephen King']\n",
      "['Stephen King', 'Peter David', 'Robin Furth']\n",
      "['Stephen King']\n",
      "['Stephen King']\n",
      "['Stephen King', 'Joachim Körber', 'Lars Schiele']\n",
      "['Stephen King']\n",
      "['Stephen King']\n",
      "['Stephen King']\n",
      "['Stephen King']\n",
      "['Stephen King']\n",
      "['Stephen King']\n",
      "['Stephen King', 'Peter David', 'Robin Furth', 'Jae Lee', 'Richard Isanove']\n",
      "['Stephen King']\n",
      "['Stephen King']\n",
      "['Richard Bachman', 'Stephen King']\n",
      "['Stephen King']\n",
      "['Stephen J. Spignesi']\n",
      "['Stephen King']\n",
      "['Stephen King']\n",
      "['Stephen King']\n",
      "['Stephen King', 'Peter David', 'Robin Furth']\n",
      "['Stephen King']\n",
      "['Stephen King']\n",
      "['Stephen King', 'Paul Bassett Davies']\n",
      "['Stephen King']\n",
      "['Stephen King']\n",
      "['Scott Snyder']\n",
      "['Stephen King']\n",
      "['Stephen King']\n",
      "['Stephen King- Hall']\n",
      "['Anonymous']\n",
      "['Stephen King']\n",
      "['Stephen king']\n",
      "['Stephen King']\n",
      "['Stephen King']\n",
      "['Stephen King']\n",
      "['Stephen King']\n",
      "['Stephen King', 'Charles De Lint', 'Jane Yolen', 'Paolo Bacigalupi']\n",
      "['Stephen King', 'Peter David', 'Robin Furth']\n",
      "['Stephen King']\n",
      "['Stephen King', 'Owen King']\n",
      "['Stephen King']\n",
      "['Stephen King']\n",
      "['Stephen King']\n",
      "['Stephen King']\n",
      "['Richard Bachman', 'Stephen King']\n",
      "['Richard Bachman']\n",
      "['Richard Bachman']\n",
      "['Richard Bachman']\n",
      "['Richard Bachman']\n",
      "['Richard Bachman', 'Kate Nelligan']\n",
      "['Richard Bachman']\n",
      "['Stephen King', 'Richard Bachman']\n",
      "['Stephen King', 'Richard Bachman']\n",
      "['DIANE Publishing Company', 'Richard Bachman']\n",
      "['Richard Bachman']\n",
      "['Richard Bachman']\n",
      "['Richard Bachman']\n",
      "['Richard Bachman']\n",
      "['Richard Bachman']\n",
      "['Richard Bachman']\n",
      "['Richard Bachman']\n",
      "['Stephen King', 'Richard Bachman']\n",
      "['Stephen King']\n",
      "['Stephen King pod pseudonymem Richard Bachman']\n",
      "['Tom Weaver']\n",
      "['Stephen King']\n",
      "['Richard W. Goffman']\n",
      "['Richard W. Clement']\n",
      "['Richard Bachman']\n",
      "['Stephen King']\n",
      "['Richard Bachman']\n",
      "['Richard Bachman']\n",
      "['Richard Bachman']\n",
      "['Richard Bachman', 'Stephen King', 'Năm Hoàng', 'Tuá̂n Anh', 'Tacke Venus']\n",
      "['Richard Bachman', 'שלמה גונן']\n",
      "['Bachman, Richard']\n",
      "['Bachman, Richard']\n",
      "['Stepehn King']\n",
      "['Richard Bachman']\n",
      "['Richard Bachman']\n",
      "['Richard Bachman']\n",
      "['Richard Bachman']\n",
      "['Richard Hutt']\n",
      "['Richard Kennedy', 'Lesley Buckingham']\n",
      "['Lutheran Television Associates', 'Robert E. A. Lee', 'Richard T. Sutcliffe', 'John W. Bachman', 'Olaf Hjalmar Hove']\n",
      "['Richard Thorman']\n",
      "['Richard Goffman']\n",
      "['Stephen King', 'Richard Bachman']\n",
      "['Richard Kennedy']\n",
      "['Richard Bachman']\n",
      "['Kevin Wimer', 'Samantha Alexandra', 'L. M. Barrett', 'T. J. Weeks', 'David Hughes', 'L. Bachman', 'Richard Barber', 'Karen Bovenmyer', 'R. M. Warren', 'C. C. Adams', 'T. Browder', 'Glenn Campbell', 'Brian Murray', 'Alice Black', 'Michael Arnold', 'Jonathan Shipley', 'Jay Wright', 'Kerry Denney', 'S. L. Perrine', 'Frank Martin', 'Michael Schutz']\n",
      "['Gary Robert Bachman', 'Richard Harold Mullenax', 'Mississippi State University. Extension Service']\n",
      "['Richard Kennedy']\n",
      "['Stephen King (Richard Bachman),']\n",
      "['Richard L. Bachman']\n",
      "['Richard Bachman', 'Stephen King']\n",
      "['Stephen King', 'Richard Bachman']\n",
      "['Alf Malherbe', 'Andrew Murray', 'British Association for the Advancement of Science', 'John Bachman', 'John Davy', 'John T. Sharpless', 'Joseph Leidy', 'Richard Owen', 'Theodore Edward Cantor', 'William Yarrell']\n",
      "['Richard C. Dent', 'Lorene R. Bachman', 'Mary S. Ridler', 'WildPine Ecological Laboratory (Fla.)']\n",
      "['Ben Bachman']\n",
      "['RICHARD BACHMAN', 'STEPHEN KING']\n",
      "['Mary S. Ridler', 'C. Richard Dent', 'Lorene R. Bachman', 'Loxahatchee River District (Fla.)']\n",
      "['Richard Rhodes']\n",
      "['Richard Bachman']\n",
      "['Richard Bachman (psevd. for Stephen King)']\n",
      "['Richard Deutch']\n",
      "['Richard Bachman (pseud. van Stephen King.)', 'Paul Hekman']\n",
      "['Stephen King']\n",
      "['Richard Bachman', 'Stephen King']\n",
      "['Stephen King']\n",
      "['Richard Bachman', 'Stephen King']\n",
      "['Richard Bachman']\n",
      "['Stephen King pod pseudonymem Richard Bachman']\n",
      "['Richard Bachman', 'Božica Jakovlev']\n",
      "['Richard Bachman']\n",
      "['Stephen King', 'Hernán Sabaté', 'Richard Bachman']\n"
     ]
    }
   ],
   "source": [
    "# Assuming you already have the collection object\n",
    "# Access the 'authors' list from each document and combine them\n",
    "full_authorship_list = []\n",
    "\n",
    "for document in collection.find({}, {'volumeInfo.authors': 1}):\n",
    "    # Check if the 'volumeInfo' dictionary and 'authors' key exist in the document\n",
    "    if 'volumeInfo' in document and 'authors' in document['volumeInfo']:\n",
    "        # Extract the 'authors' list from the 'volumeInfo' dictionary of each document\n",
    "        authors_list = document['volumeInfo']['authors']\n",
    "\n",
    "        # Append the authors_list to the full_authorship_list\n",
    "        full_authorship_list.append(authors_list)\n",
    "\n",
    "# Print the full authorship list\n",
    "for authorship in full_authorship_list:\n",
    "    print(authorship)\n"
   ]
  },
  {
   "cell_type": "code",
   "execution_count": 73,
   "metadata": {},
   "outputs": [
    {
     "name": "stdout",
     "output_type": "stream",
     "text": [
      "['Richard L. Bachman']\n",
      "['Stephen King', 'Paul Bassett Davies']\n",
      "['Stephen King- Hall']\n",
      "['Richard W. Clement']\n",
      "['Bachman, Richard']\n",
      "['RICHARD BACHMAN', 'STEPHEN KING']\n",
      "['Stepehn King']\n",
      "['Richard Bachman (psevd. for Stephen King)']\n",
      "['Richard Bachman']\n",
      "['Kevin Wimer', 'Samantha Alexandra', 'L. M. Barrett', 'T. J. Weeks', 'David Hughes', 'L. Bachman', 'Richard Barber', 'Karen Bovenmyer', 'R. M. Warren', 'C. C. Adams', 'T. Browder', 'Glenn Campbell', 'Brian Murray', 'Alice Black', 'Michael Arnold', 'Jonathan Shipley', 'Jay Wright', 'Kerry Denney', 'S. L. Perrine', 'Frank Martin', 'Michael Schutz']\n",
      "['Stephen King', 'Richard Bachman']\n",
      "['Richard W. Goffman']\n",
      "['Richard Kennedy']\n",
      "['Stephen Spignesi']\n",
      "['Lutheran Television Associates', 'Robert E. A. Lee', 'Richard T. Sutcliffe', 'John W. Bachman', 'Olaf Hjalmar Hove']\n",
      "['Richard Bachman', 'שלמה גונן']\n",
      "['Richard Bachman (pseud. van Stephen King.)', 'Paul Hekman']\n",
      "['Richard Bachman', 'Božica Jakovlev']\n",
      "['Richard Thorman']\n",
      "['Stephen King', 'Owen King']\n",
      "['Stephen King (Richard Bachman),']\n",
      "['DIANE Publishing Company', 'Richard Bachman']\n",
      "['Richard Bachman', 'Kate Nelligan']\n",
      "['Stephen King', 'Joachim Körber', 'Lars Schiele']\n",
      "['Alf Malherbe', 'Andrew Murray', 'British Association for the Advancement of Science', 'John Bachman', 'John Davy', 'John T. Sharpless', 'Joseph Leidy', 'Richard Owen', 'Theodore Edward Cantor', 'William Yarrell']\n",
      "['Richard Deutch']\n",
      "['Stephen King', 'Charles De Lint', 'Jane Yolen', 'Paolo Bacigalupi']\n",
      "['Richard Rhodes']\n",
      "['Stephen King', 'Andrea Fischer']\n",
      "['Richard C. Dent', 'Lorene R. Bachman', 'Mary S. Ridler', 'WildPine Ecological Laboratory (Fla.)']\n",
      "['Stephen King']\n",
      "['Stephen King', 'Robin Furth', 'Peter David']\n",
      "['Stephen King', 'Peter David', 'Robin Furth', 'Jae Lee', 'Richard Isanove']\n",
      "['Mary S. Ridler', 'C. Richard Dent', 'Lorene R. Bachman', 'Loxahatchee River District (Fla.)']\n",
      "['Stephen King', 'Peter David', 'Robin Furth']\n",
      "['Richard Bachman', 'Stephen King', 'Năm Hoàng', 'Tuá̂n Anh', 'Tacke Venus']\n",
      "['Richard Goffman']\n",
      "['Stephen King', 'Tim Underwood', 'Chuck Miller']\n",
      "['Stephen King', 'Peter Straub']\n",
      "['Stephen king']\n",
      "['Ben Bachman']\n",
      "['Richard Kennedy', 'Lesley Buckingham']\n",
      "['Michael R. Collings', 'Stephen King']\n",
      "['Tom Weaver']\n",
      "['Judie Lannon', 'Merry Baskin']\n",
      "['Stephen J. Spignesi']\n",
      "['Richard Bachman', 'Stephen King']\n",
      "['Scott Snyder']\n",
      "['Richard Hutt']\n",
      "['Gary Robert Bachman', 'Richard Harold Mullenax', 'Mississippi State University. Extension Service']\n",
      "['Stephen King', 'Hernán Sabaté', 'Richard Bachman']\n",
      "['Anonymous']\n",
      "['Stephen King pod pseudonymem Richard Bachman']\n"
     ]
    }
   ],
   "source": [
    "# Convert list of lists to a list of tuples\n",
    "authorship_tuples = [tuple(authors) for authors in full_authorship_list]\n",
    "\n",
    "# Use set() to find unique tuples and remove duplicates\n",
    "unique_authorship_tuples = set(authorship_tuples)\n",
    "\n",
    "# Convert back to a list of lists to retain the unique authorship lists\n",
    "unique_authorship_list = [list(authors) for authors in unique_authorship_tuples]\n",
    "\n",
    "# Print the unique authorship list\n",
    "for authorship in unique_authorship_list:\n",
    "    print(authorship)"
   ]
  },
  {
   "cell_type": "code",
   "execution_count": 102,
   "metadata": {},
   "outputs": [
    {
     "name": "stdout",
     "output_type": "stream",
     "text": [
      "A Georgia Training and Redevelopment Center\n",
      "Authors: ['Richard L. Bachman']\n",
      "id: doqhYgEACAAJ\n",
      "-----------\n"
     ]
    }
   ],
   "source": [
    "# Check the potenial cases found for authors\n",
    "# Pull up documents by an author\n",
    "\n",
    "questionable_author = \"Richard L. Bachman\" \n",
    "\n",
    "# Use the 'find' method to search for books by the target author\n",
    "books_by_questionable_author = collection.find({'volumeInfo.authors': questionable_author})\n",
    "\n",
    "# Print the books by the target author\n",
    "for book in books_by_questionable_author:\n",
    "    print(book['volumeInfo']['title'])\n",
    "    print(\"Authors:\", book['volumeInfo']['authors'])\n",
    "    print(\"id:\", book['id'])\n",
    "    print(\"-----------\")"
   ]
  },
  {
   "cell_type": "code",
   "execution_count": 104,
   "metadata": {},
   "outputs": [
    {
     "data": {
      "text/plain": [
       "26"
      ]
     },
     "execution_count": 104,
     "metadata": {},
     "output_type": "execute_result"
    }
   ],
   "source": [
    "# New list of books to remove by id\n",
    "remove_authors_by_id = [\n",
    "     'uMhyDwAAQBAJ',\n",
    "     'EneIEAAAQBAJ',\n",
    "     'wHUaAQAAMAAJ',\n",
    "     'o9SSPQAACAAJ',\n",
    "     '4Gx4vAEACAAJ',\n",
    "     'd13nzgEACAAJ',\n",
    "     '6uczKQEACAAJ',\n",
    "     'MVvjMgEACAAJ',\n",
    "     'Q77gAAAAMAAJ',\n",
    "     '5bKZAAAACAAJ',\n",
    "     'Anr3AgAACAAJ',\n",
    "     'Q1DhAAAAMAAJ',\n",
    "     '8ItGHQAACAAJ',\n",
    "     'O1LVtwAACAAJ',\n",
    "     'AYMaHQAACAAJ',\n",
    "     'Zmx9rgEACAAJ',\n",
    "     '7VN-dQAACAAJ',\n",
    "     'nYDUZwEACAAJ',\n",
    "     '93DlPwAACAAJ',\n",
    "     'wuIrHQAACAAJ',\n",
    "     '4phhGwAACAAJ',\n",
    "     '1VjsPAAACAAJ',\n",
    "     'r5NUAQAACAAJ',\n",
    "     'Jtu1zQEACAAJ',\n",
    "     '4j2FDwAAQBAJ', \n",
    "     'doqhYgEACAAJ']\n",
    "\n",
    "# Count the number of items on the list\n",
    "len(remove_authors_by_id)"
   ]
  },
  {
   "cell_type": "code",
   "execution_count": 105,
   "metadata": {},
   "outputs": [
    {
     "data": {
      "text/plain": [
       "<pymongo.results.DeleteResult at 0x1d0feccc5c0>"
      ]
     },
     "execution_count": 105,
     "metadata": {},
     "output_type": "execute_result"
    }
   ],
   "source": [
    "# Remove the books on the remove_authors_by_id list\n",
    "collection.delete_many({'id': {'$in': remove_authors_by_id}})"
   ]
  },
  {
   "cell_type": "code",
   "execution_count": 106,
   "metadata": {},
   "outputs": [
    {
     "data": {
      "text/plain": [
       "201"
      ]
     },
     "execution_count": 106,
     "metadata": {},
     "output_type": "execute_result"
    }
   ],
   "source": [
    "# Count the number of rows in the dataset\n",
    "collection.count_documents({})"
   ]
  },
  {
   "cell_type": "markdown",
   "metadata": {},
   "source": [
    "## Variations in Author Names"
   ]
  },
  {
   "cell_type": "code",
   "execution_count": 9,
   "metadata": {},
   "outputs": [
    {
     "data": {
      "text/plain": [
       "['Andrea Fischer',\n",
       " 'Bachman, Richard',\n",
       " 'Božica Jakovlev',\n",
       " 'Charles De Lint',\n",
       " 'Chuck Miller',\n",
       " 'DIANE Publishing Company',\n",
       " 'Hernán Sabaté',\n",
       " 'Jae Lee',\n",
       " 'Jane Yolen',\n",
       " 'Joachim Körber',\n",
       " 'Kate Nelligan',\n",
       " 'Lars Schiele',\n",
       " 'Michael R. Collings',\n",
       " 'Năm Hoàng',\n",
       " 'Owen King',\n",
       " 'Paolo Bacigalupi',\n",
       " 'Paul Bassett Davies',\n",
       " 'Paul Hekman',\n",
       " 'Peter David',\n",
       " 'Peter Straub',\n",
       " 'RICHARD BACHMAN',\n",
       " 'Richard Bachman',\n",
       " 'Richard Bachman (pseud. van Stephen King.)',\n",
       " 'Richard Bachman (psevd. for Stephen King)',\n",
       " 'Richard Isanove',\n",
       " 'Robin Furth',\n",
       " 'STEPHEN KING',\n",
       " 'Stepehn King',\n",
       " 'Stephen King',\n",
       " 'Stephen King (Richard Bachman),',\n",
       " 'Stephen King pod pseudonymem Richard Bachman',\n",
       " 'Stephen king',\n",
       " 'Tacke Venus',\n",
       " 'Tim Underwood',\n",
       " 'Tuá̂n Anh',\n",
       " 'שלמה גונן']"
      ]
     },
     "execution_count": 9,
     "metadata": {},
     "output_type": "execute_result"
    }
   ],
   "source": [
    "# Create a list of all remaining authors for inspection\n",
    "authors = collection.distinct('volumeInfo.authors')\n",
    "authors"
   ]
  },
  {
   "cell_type": "code",
   "execution_count": 10,
   "metadata": {},
   "outputs": [
    {
     "data": {
      "text/plain": [
       "<pymongo.results.UpdateResult at 0x2746378e540>"
      ]
     },
     "execution_count": 10,
     "metadata": {},
     "output_type": "execute_result"
    }
   ],
   "source": [
    "# Richard Bachman variations need to be consistent\n",
    "#  'RICHARD BACHMAN',\n",
    "#  'Richard Bachman', <----- Correct\n",
    "#  'Richard Bachman (pseud. van Stephen King.)',\n",
    "#  'Richard Bachman (psevd. for Stephen King)',\n",
    "\n",
    "# Replace the variations with the correct name\n",
    "collection.update_many({'volumeInfo.authors': 'RICHARD BACHMAN'}, {'$set': {'volumeInfo.authors': 'Richard Bachman'}})\n",
    "collection.update_many({'volumeInfo.authors': 'Richard Bachman (pseud. van Stephen King.)'}, {'$set': {'volumeInfo.authors': 'Richard Bachman'}})\n",
    "collection.update_many({'volumeInfo.authors': 'Richard Bachman (psevd. for Stephen King)'}, {'$set': {'volumeInfo.authors': 'Richard Bachman'}})\n"
   ]
  },
  {
   "cell_type": "code",
   "execution_count": 12,
   "metadata": {},
   "outputs": [
    {
     "data": {
      "text/plain": [
       "['Andrea Fischer',\n",
       " 'Bachman, Richard',\n",
       " 'Božica Jakovlev',\n",
       " 'Charles De Lint',\n",
       " 'Chuck Miller',\n",
       " 'DIANE Publishing Company',\n",
       " 'Hernán Sabaté',\n",
       " 'Jae Lee',\n",
       " 'Jane Yolen',\n",
       " 'Joachim Körber',\n",
       " 'Kate Nelligan',\n",
       " 'Lars Schiele',\n",
       " 'Michael R. Collings',\n",
       " 'Năm Hoàng',\n",
       " 'Owen King',\n",
       " 'Paolo Bacigalupi',\n",
       " 'Paul Bassett Davies',\n",
       " 'Peter David',\n",
       " 'Peter Straub',\n",
       " 'Richard Bachman',\n",
       " 'Richard Isanove',\n",
       " 'Robin Furth',\n",
       " 'Stepehn King',\n",
       " 'Stephen King',\n",
       " 'Stephen King (Richard Bachman),',\n",
       " 'Stephen King pod pseudonymem Richard Bachman',\n",
       " 'Stephen king',\n",
       " 'Tacke Venus',\n",
       " 'Tim Underwood',\n",
       " 'Tuá̂n Anh',\n",
       " 'שלמה גונן']"
      ]
     },
     "execution_count": 12,
     "metadata": {},
     "output_type": "execute_result"
    }
   ],
   "source": [
    "# Check that it updated correctly\n",
    "# Show all author names again\n",
    "authors = collection.distinct('volumeInfo.authors')\n",
    "authors\n",
    "\n",
    "# Looks good\n"
   ]
  },
  {
   "cell_type": "code",
   "execution_count": 13,
   "metadata": {},
   "outputs": [
    {
     "data": {
      "text/plain": [
       "<pymongo.results.UpdateResult at 0x27463651a80>"
      ]
     },
     "execution_count": 13,
     "metadata": {},
     "output_type": "execute_result"
    }
   ],
   "source": [
    "# Now for Stephen King variations\n",
    "#  'STEPHEN KING',\n",
    "#  'Stepehn King',\n",
    "#  'Stephen King', <----- Correct\n",
    "#  'Stephen King (Richard Bachman),',\n",
    "#  'Stephen King pod pseudonymem Richard Bachman',\n",
    "#  'Stephen king',\n",
    "\n",
    "# Replace the variations with the correct name\n",
    "collection.update_many({'volumeInfo.authors': 'STEPHEN KING'}, {'$set': {'volumeInfo.authors': 'Stephen King'}})\n",
    "collection.update_many({'volumeInfo.authors': 'Stepehn King'}, {'$set': {'volumeInfo.authors': 'Stephen King'}})\n",
    "collection.update_many({'volumeInfo.authors': 'Stephen King (Richard Bachman),'}, {'$set': {'volumeInfo.authors': 'Stephen King'}})\n",
    "collection.update_many({'volumeInfo.authors': 'Stephen King pod pseudonymem Richard Bachman'}, {'$set': {'volumeInfo.authors': 'Stephen King'}})\n",
    "collection.update_many({'volumeInfo.authors': 'Stephen king'}, {'$set': {'volumeInfo.authors': 'Stephen King'}})"
   ]
  },
  {
   "cell_type": "code",
   "execution_count": 14,
   "metadata": {},
   "outputs": [
    {
     "data": {
      "text/plain": [
       "['Andrea Fischer',\n",
       " 'Bachman, Richard',\n",
       " 'Božica Jakovlev',\n",
       " 'Charles De Lint',\n",
       " 'Chuck Miller',\n",
       " 'DIANE Publishing Company',\n",
       " 'Hernán Sabaté',\n",
       " 'Jae Lee',\n",
       " 'Jane Yolen',\n",
       " 'Joachim Körber',\n",
       " 'Kate Nelligan',\n",
       " 'Lars Schiele',\n",
       " 'Michael R. Collings',\n",
       " 'Năm Hoàng',\n",
       " 'Owen King',\n",
       " 'Paolo Bacigalupi',\n",
       " 'Paul Bassett Davies',\n",
       " 'Peter David',\n",
       " 'Peter Straub',\n",
       " 'Richard Bachman',\n",
       " 'Richard Isanove',\n",
       " 'Robin Furth',\n",
       " 'Stephen King',\n",
       " 'Tacke Venus',\n",
       " 'Tim Underwood',\n",
       " 'Tuá̂n Anh',\n",
       " 'שלמה גונן']"
      ]
     },
     "execution_count": 14,
     "metadata": {},
     "output_type": "execute_result"
    }
   ],
   "source": [
    "# Check that it updated correctly\n",
    "# Show all author names again\n",
    "authors = collection.distinct('volumeInfo.authors')\n",
    "authors"
   ]
  },
  {
   "cell_type": "markdown",
   "metadata": {},
   "source": [
    "## Unique ID"
   ]
  },
  {
   "cell_type": "code",
   "execution_count": 15,
   "metadata": {},
   "outputs": [],
   "source": [
    "# Do all of the records have an [id] field?\n",
    "collection.find_one({'id': {'$exists': False}})"
   ]
  },
  {
   "cell_type": "code",
   "execution_count": 16,
   "metadata": {},
   "outputs": [
    {
     "name": "stdout",
     "output_type": "stream",
     "text": [
      "Unique titles: 135\n",
      "Total titles: 201\n"
     ]
    }
   ],
   "source": [
    "# Check if all of the titles of books are unique\n",
    "\n",
    "# How many unqiue titles are there?\n",
    "len(collection.distinct('volumeInfo.title'))\n",
    "\n",
    "# How many total titles are there?\n",
    "collection.count_documents({})\n",
    "\n",
    "print(f\"Unique titles: {len(collection.distinct('volumeInfo.title'))}\")\n",
    "print(f\"Total titles: {collection.count_documents({})}\")"
   ]
  },
  {
   "cell_type": "code",
   "execution_count": 19,
   "metadata": {},
   "outputs": [
    {
     "data": {
      "text/plain": [
       "165"
      ]
     },
     "execution_count": 19,
     "metadata": {},
     "output_type": "execute_result"
    }
   ],
   "source": [
    "# Do all of the book have an ISBN number?\n",
    "# collection.find_one({'volumeInfo.industryIdentifiers': {'$exists': False}})\n",
    "\n",
    "# How many books do not have an ISBN number?\n",
    "# collection.count_documents({'volumeInfo.industryIdentifiers': {'$exists': False}})\n",
    "\n",
    "# How many books do not ahve an \"ISBN_13\"\n",
    "collection.count_documents({'volumeInfo.industryIdentifiers.type': 'ISBN_13'})\n"
   ]
  },
  {
   "cell_type": "code",
   "execution_count": 20,
   "metadata": {},
   "outputs": [
    {
     "name": "stdout",
     "output_type": "stream",
     "text": [
      "Unique etags: 201\n",
      "Total etags: 201\n"
     ]
    }
   ],
   "source": [
    "# Is the etag unique? \n",
    "# How many unique etags are there?\n",
    "len(collection.distinct('etag'))\n",
    "\n",
    "# How many total etags are there?\n",
    "collection.count_documents({})\n",
    "\n",
    "print(f\"Unique etags: {len(collection.distinct('etag'))}\")\n",
    "print(f\"Total etags: {collection.count_documents({})}\")"
   ]
  },
  {
   "cell_type": "code",
   "execution_count": 21,
   "metadata": {},
   "outputs": [
    {
     "data": {
      "text/plain": [
       "{'_id': ObjectId('64b9f6b3a2229c0ebe08e321'),\n",
       " 'kind': 'books#volume',\n",
       " 'id': 'z8S0ygAACAAJ',\n",
       " 'etag': 'tFkxgTYIfk4',\n",
       " 'selfLink': 'https://www.googleapis.com/books/v1/volumes/z8S0ygAACAAJ',\n",
       " 'volumeInfo': {'title': \"Stephen King's N.\",\n",
       "  'publishedDate': '2011',\n",
       "  'description': \"Presents a graphic novel adaptation of a short story that revolves around an eerie collection of stones set in Ackerman's Field in rural Maine.\",\n",
       "  'industryIdentifiers': [{'type': 'ISBN_10', 'identifier': '3862011925'},\n",
       "   {'type': 'ISBN_13', 'identifier': '9783862011926'}],\n",
       "  'readingModes': {'text': False, 'image': False},\n",
       "  'pageCount': 112,\n",
       "  'printType': 'BOOK',\n",
       "  'categories': ['Graphic novels'],\n",
       "  'maturityRating': 'NOT_MATURE',\n",
       "  'allowAnonLogging': False,\n",
       "  'contentVersion': 'preview-1.0.0',\n",
       "  'imageLinks': {'smallThumbnail': 'http://books.google.com/books/content?id=z8S0ygAACAAJ&printsec=frontcover&img=1&zoom=5&source=gbs_api',\n",
       "   'thumbnail': 'http://books.google.com/books/content?id=z8S0ygAACAAJ&printsec=frontcover&img=1&zoom=1&source=gbs_api'},\n",
       "  'language': 'de',\n",
       "  'previewLink': 'http://books.google.com/books?id=z8S0ygAACAAJ&dq=inauthor:Stephen+King&hl=&cd=33&source=gbs_api',\n",
       "  'infoLink': 'http://books.google.com/books?id=z8S0ygAACAAJ&dq=inauthor:Stephen+King&hl=&source=gbs_api',\n",
       "  'canonicalVolumeLink': 'https://books.google.com/books/about/Stephen_King_s_N.html?hl=&id=z8S0ygAACAAJ'},\n",
       " 'saleInfo': {'country': 'US',\n",
       "  'saleability': 'NOT_FOR_SALE',\n",
       "  'isEbook': False},\n",
       " 'accessInfo': {'country': 'US',\n",
       "  'viewability': 'NO_PAGES',\n",
       "  'embeddable': False,\n",
       "  'publicDomain': False,\n",
       "  'textToSpeechPermission': 'ALLOWED',\n",
       "  'epub': {'isAvailable': False},\n",
       "  'pdf': {'isAvailable': False},\n",
       "  'webReaderLink': 'http://play.google.com/books/reader?id=z8S0ygAACAAJ&hl=&source=gbs_api',\n",
       "  'accessViewStatus': 'NONE',\n",
       "  'quoteSharingAllowed': False},\n",
       " 'searchInfo': {'textSnippet': 'Presents a graphic novel adaptation of a short story that revolves around an eerie collection of stones set in Ackerman&#39;s Field in rural Maine.'}}"
      ]
     },
     "execution_count": 21,
     "metadata": {},
     "output_type": "execute_result"
    }
   ],
   "source": [
    "# Are there any books that do not have an author? \n",
    "collection.find_one({'volumeInfo.authors': {'$exists': False}})"
   ]
  },
  {
   "cell_type": "code",
   "execution_count": null,
   "metadata": {},
   "outputs": [],
   "source": []
  }
 ],
 "metadata": {
  "kernelspec": {
   "display_name": "Python 3 (ipykernel)",
   "language": "python",
   "name": "python3"
  },
  "language_info": {
   "codemirror_mode": {
    "name": "ipython",
    "version": 3
   },
   "file_extension": ".py",
   "mimetype": "text/x-python",
   "name": "python",
   "nbconvert_exporter": "python",
   "pygments_lexer": "ipython3",
   "version": "3.10.10"
  }
 },
 "nbformat": 4,
 "nbformat_minor": 4
}
